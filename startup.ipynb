{
  "nbformat": 4,
  "nbformat_minor": 0,
  "metadata": {
    "colab": {
      "provenance": [],
      "authorship_tag": "ABX9TyMNvZDFPdBviT6u1zBEIN5P",
      "include_colab_link": true
    },
    "kernelspec": {
      "name": "python3",
      "display_name": "Python 3"
    },
    "language_info": {
      "name": "python"
    }
  },
  "cells": [
    {
      "cell_type": "markdown",
      "metadata": {
        "id": "view-in-github",
        "colab_type": "text"
      },
      "source": [
        "<a href=\"https://colab.research.google.com/github/SyedaRaihaAliKazmi1/git_tutorials/blob/main/startup.ipynb\" target=\"_parent\"><img src=\"https://colab.research.google.com/assets/colab-badge.svg\" alt=\"Open In Colab\"/></a>"
      ]
    },
    {
      "cell_type": "code",
      "execution_count": 1,
      "metadata": {
        "colab": {
          "base_uri": "https://localhost:8080/"
        },
        "id": "VpHBuqpdYJlk",
        "outputId": "7dd3a5d6-7bca-493c-d1a6-43b775873cd3"
      },
      "outputs": [
        {
          "output_type": "stream",
          "name": "stdout",
          "text": [
            "Hello world\n",
            "4\n",
            "2.45\n",
            "6.5\n"
          ]
        }
      ],
      "source": [
        "print(\"Hello world\")\n",
        "print(2+2)\n",
        "print(2.45)\n",
        "print(2+7-5/2)"
      ]
    }
  ]
}